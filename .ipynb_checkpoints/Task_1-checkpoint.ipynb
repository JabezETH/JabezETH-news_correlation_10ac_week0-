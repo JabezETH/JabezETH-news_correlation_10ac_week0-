{
 "cells": [
  {
   "cell_type": "markdown",
   "id": "3c94d592-846c-45c8-9d4c-5dcd59a82a03",
   "metadata": {},
   "source": [
    "# Importing Libraries"
   ]
  },
  {
   "cell_type": "code",
   "execution_count": 2,
   "id": "ee2dbb3c-17d7-428c-b489-7de8c4985c9b",
   "metadata": {},
   "outputs": [],
   "source": [
    "import pandas as pd\n",
    "import numpy as np\n",
    "import seaborn as sns"
   ]
  },
  {
   "cell_type": "markdown",
   "id": "97012d85-2779-4fe4-a8df-368595a591d6",
   "metadata": {},
   "source": [
    "# Reading the csv file and assining a variable"
   ]
  },
  {
   "cell_type": "code",
   "execution_count": 3,
   "id": "b7b08c9c-a1ed-4525-8af9-23b19bf038cc",
   "metadata": {},
   "outputs": [],
   "source": [
    "data = pd.read_csv(r'C:\\Users\\user\\OneDrive\\Documents\\10 Acadamy\\rating.csv', encoding='utf-8')\n",
    "data_traffic = pd.read_csv(r'C:\\Users\\user\\OneDrive\\Documents\\10 Acadamy\\traffic.csv', encoding='utf-8')\n",
    "data_domain = pd.read_csv(r'C:\\Users\\user\\OneDrive\\Documents\\10 Acadamy\\domains_location.csv', encoding='utf-8')"
   ]
  },
  {
   "cell_type": "markdown",
   "id": "7f389fdc-64d1-4c5a-a859-49088eb36e11",
   "metadata": {},
   "source": [
    "# Checking the csv data"
   ]
  },
  {
   "cell_type": "code",
   "execution_count": null,
   "id": "9815eaa6-c509-4406-bdeb-4a39921f4479",
   "metadata": {},
   "outputs": [],
   "source": [
    "data.info()"
   ]
  },
  {
   "cell_type": "code",
   "execution_count": null,
   "id": "6aaed27c-46b1-4258-8f71-caedfbf97119",
   "metadata": {},
   "outputs": [],
   "source": [
    "data.isnull().sum()"
   ]
  },
  {
   "cell_type": "code",
   "execution_count": null,
   "id": "d5b3f94c-cf65-4f96-b5ae-96c80282aaf0",
   "metadata": {},
   "outputs": [],
   "source": [
    "data.head() # to view the top datas"
   ]
  },
  {
   "cell_type": "code",
   "execution_count": null,
   "id": "d95a89b1-7649-46ed-a87e-709f0fbcc13f",
   "metadata": {},
   "outputs": [],
   "source": [
    "data.tail() # to view the bottom datas"
   ]
  },
  {
   "cell_type": "code",
   "execution_count": null,
   "id": "719f5cc0-4019-4d9c-bba0-7061758b44c7",
   "metadata": {},
   "outputs": [],
   "source": [
    "data_traffic.head()"
   ]
  },
  {
   "cell_type": "code",
   "execution_count": null,
   "id": "3bc0402c-00a1-4964-a865-618f9f9a2538",
   "metadata": {},
   "outputs": [],
   "source": [
    "data_traffic.tail()"
   ]
  },
  {
   "cell_type": "code",
   "execution_count": null,
   "id": "cad61312-5797-4dea-b9ce-a64f3ded8537",
   "metadata": {},
   "outputs": [],
   "source": [
    "data_domain.head()"
   ]
  },
  {
   "cell_type": "markdown",
   "id": "ccc7ab44-462f-43df-95ec-5c6c6ec15347",
   "metadata": {},
   "source": [
    "# Task 1- Websites that have the largest count of news articles"
   ]
  },
  {
   "cell_type": "code",
   "execution_count": 5,
   "id": "11d8c4ed-3ff4-42b4-af06-a0a2bc174f1b",
   "metadata": {},
   "outputs": [
    {
     "name": "stdout",
     "output_type": "stream",
     "text": [
      "Top Ten website by number of article published:\n",
      "website\n",
      "www.etfdailynews.com            16746\n",
      "www.globenewswire.com            5423\n",
      "economictimes.indiatimes.com     5310\n",
      "www.globalsecurity.org           3119\n",
      "www.forbes.com                   2784\n",
      "timesofindia.indiatimes.com      2194\n",
      "abcnews.go.com                   2058\n",
      "www.businessinsider.com          2034\n",
      "www.bbc.co.uk                    2032\n",
      "punchng.com                      1800\n",
      "Name: count, dtype: int64\n",
      "\n",
      "Bottom Ten websites by number of article published:\n",
      "website\n",
      "gizmodo.com                         388\n",
      "readwrite.com                       324\n",
      "www.euronews.com                    286\n",
      "www.wired.com                       270\n",
      "www.cnn.com                         267\n",
      "www.theverge.com                    214\n",
      "www.bbc.com                          81\n",
      "allafrica.com                        20\n",
      "cnalifestyle.channelnewsasia.com     18\n",
      "cnaluxury.channelnewsasia.com         4\n",
      "Name: count, dtype: int64\n"
     ]
    }
   ],
   "source": [
    "from urllib.parse import urlparse\n",
    "def extract_website(url):\n",
    "    parsed_url = urlparse(url)\n",
    "    return parsed_url.netloc\n",
    "data['website'] = data['url'].apply(extract_website)\n",
    "website_counts = data['website'].value_counts()\n",
    "sorted_website_data = website_counts.sort_values(ascending=False)\n",
    "top_websites = sorted_website_data.head(10)\n",
    "bottom_websites = sorted_website_data.tail(10)\n",
    "print(\"Top Ten website by number of article published:\")\n",
    "print(top_websites)\n",
    "print(\"\\nBottom Ten websites by number of article published:\")\n",
    "print(bottom_websites)"
   ]
  },
  {
   "cell_type": "markdown",
   "id": "f049480f-7afa-4be2-9537-c66324037bf3",
   "metadata": {},
   "source": [
    "# Task 1: Websites with the highest numbers of visitors traffic"
   ]
  },
  {
   "cell_type": "code",
   "execution_count": 6,
   "id": "45c736e6-ca69-4dfa-83e7-17992336fffe",
   "metadata": {},
   "outputs": [
    {
     "name": "stdout",
     "output_type": "stream",
     "text": [
      "Top Ten Domain Names by GlobalRank:\n",
      "   GlobalRank                Domain\n",
      "0           1            google.com\n",
      "1           2          facebook.com\n",
      "2           3           youtube.com\n",
      "3           4           twitter.com\n",
      "4           5         instagram.com\n",
      "5           6          linkedin.com\n",
      "6           7             apple.com\n",
      "7           8         microsoft.com\n",
      "8           9  googletagmanager.com\n",
      "9          10         wikipedia.org\n",
      "\n",
      "Bottom Ten Domain Names by GlobalRank:\n",
      "        GlobalRank                  Domain\n",
      "999990      999991            eiretrip.com\n",
      "999991      999992    exploring-africa.com\n",
      "999992      999993                hmag.com\n",
      "999993      999994          irishcycle.com\n",
      "999994      999995         keith-baker.com\n",
      "999995      999996              kireie.com\n",
      "999996      999997             mt-lock.com\n",
      "999997      999998           pinkwater.com\n",
      "999998      999999          soderhomes.com\n",
      "999999     1000000  toyotamusicfactory.com\n"
     ]
    }
   ],
   "source": [
    "sorted_data = data_traffic.sort_values(by='GlobalRank')\n",
    "\n",
    "top_ten = sorted_data[['GlobalRank', 'Domain']].head(10)\n",
    "bottom_ten = sorted_data[['GlobalRank', 'Domain']].tail(10)\n",
    "\n",
    "print(\"Top Ten Domain Names by GlobalRank:\")\n",
    "print(top_ten)\n",
    "\n",
    "print(\"\\nBottom Ten Domain Names by GlobalRank:\")\n",
    "print(bottom_ten)"
   ]
  },
  {
   "cell_type": "markdown",
   "id": "7618e5e0-9891-45a0-a251-a899e4ce3f80",
   "metadata": {},
   "source": [
    "# Task 1: Countries with the highest number of news media organisations"
   ]
  },
  {
   "cell_type": "code",
   "execution_count": 8,
   "id": "925a4abc-e977-4f58-a841-1bfddd6651ff",
   "metadata": {},
   "outputs": [
    {
     "name": "stdout",
     "output_type": "stream",
     "text": [
      "Top Ten Countries with the highest number of news media organizations:\n",
      "Country\n",
      "United States     14111\n",
      "United Kingdom     1946\n",
      "Italy              1804\n",
      "France             1039\n",
      "Russia             1020\n",
      "Canada              886\n",
      "Germany             884\n",
      "China               779\n",
      "Turkey              725\n",
      "India               686\n",
      "Name: SourceCommonName, dtype: int64\n",
      "\n",
      "Bottom Ten Countries with the lowest number of news media organizations:\n",
      "Country\n",
      "Guinea-Bissau               1\n",
      "Guernsey                    1\n",
      "Mayotte                     1\n",
      "Oceans                      1\n",
      "Greenland                   1\n",
      "Aruba                       1\n",
      "Saint Helena                1\n",
      "Guadeloupe                  1\n",
      "Cook Islands                1\n",
      "Turks and Caicos Islands    1\n",
      "Name: SourceCommonName, dtype: int64\n"
     ]
    }
   ],
   "source": [
    "country_counts = data_domain.groupby('Country')['SourceCommonName'].nunique()\n",
    "sorted_country_counts = country_counts.sort_values(ascending=False)\n",
    "top_countries = sorted_country_counts.head(10)\n",
    "bottom_countries = sorted_country_counts.tail(10)\n",
    "print(\"Top Ten Countries with the highest number of news media organizations:\")\n",
    "print(top_countries)\n",
    "print(\"\\nBottom Ten Countries with the lowest number of news media organizations:\")\n",
    "print(bottom_countries)"
   ]
  },
  {
   "cell_type": "markdown",
   "id": "db6793b2-0a14-47c1-94d4-8657de4113f5",
   "metadata": {},
   "source": [
    "# Task 1: Countries that have many articles written about them"
   ]
  },
  {
   "cell_type": "code",
   "execution_count": 9,
   "id": "6ef1e9e7-3630-46d7-b816-d0202b4901d0",
   "metadata": {},
   "outputs": [
    {
     "name": "stdout",
     "output_type": "stream",
     "text": [
      "Top Ten Countries with the highest news counts:\n",
      "category\n",
      "Canada            2066\n",
      "India             1054\n",
      "Australia          877\n",
      "United Kingdom     753\n",
      "Ukraine            577\n",
      "Mexico             553\n",
      "United States      481\n",
      "Nigeria            469\n",
      "Germany            459\n",
      "Hong Kong          430\n",
      "Name: count, dtype: int64\n",
      "\n",
      "Bottom Ten Countries with the lowest news counts:\n",
      "category\n",
      "Liechtenstein    8\n",
      "Bhutan           7\n",
      "Montserrat       7\n",
      "Eritrea          6\n",
      "Gambia           4\n",
      "San Marino       4\n",
      "Honduras         3\n",
      "Andorra          3\n",
      "Burundi          3\n",
      "Martinique       2\n",
      "Name: count, dtype: int64\n"
     ]
    }
   ],
   "source": [
    "country_names = data_domain['Country'].tolist()\n",
    "country_data = data[data['category'].isin(country_names)]\n",
    "country_talking_counts = country_data['category'].value_counts()\n",
    "sorted_country_talking = country_talking_counts.sort_values(ascending=False)\n",
    "top_10_countries = sorted_country_talking.head(10)\n",
    "bottom_10_countries = sorted_country_talking.tail(10)\n",
    "\n",
    "print(\"Top Ten Countries with the highest news counts:\")\n",
    "print(top_10_countries)\n",
    "\n",
    "print(\"\\nBottom Ten Countries with the lowest news counts:\")\n",
    "print(bottom_10_countries)"
   ]
  },
  {
   "cell_type": "markdown",
   "id": "ef6ac102-8bb9-4a8a-b5c7-d838fc4182cd",
   "metadata": {},
   "source": [
    "# Task 1: Websites that reported (the news content) about Africa, US, China, EU, Russia, Ukraine, Middle East?"
   ]
  },
  {
   "cell_type": "code",
   "execution_count": 10,
   "id": "50a43dad-69b4-4837-ae69-69c67b3c2513",
   "metadata": {},
   "outputs": [
    {
     "name": "stdout",
     "output_type": "stream",
     "text": [
      "websites who are talking about African countries\n",
      "\n",
      "Top ten websites\n",
      "website\n",
      "punchng.com                     839\n",
      "www.marketscreener.com          248\n",
      "www.globalsecurity.org          202\n",
      "www.etfdailynews.com            190\n",
      "www.bbc.co.uk                   136\n",
      "www.rt.com                      130\n",
      "economictimes.indiatimes.com    122\n",
      "www.aljazeera.com               117\n",
      "abcnews.go.com                  116\n",
      "www.ibtimes.com                  98\n",
      "Name: count, dtype: int64\n",
      "\n",
      "Bottom ten websites\n",
      "website\n",
      "time.com                  21\n",
      "indianexpress.com         15\n",
      "boingboing.net             8\n",
      "gizmodo.com                5\n",
      "www.digitaltrends.com      3\n",
      "www.androidcentral.com     2\n",
      "www.wired.com              2\n",
      "readwrite.com              2\n",
      "www.bbc.com                2\n",
      "www.theverge.com           1\n",
      "Name: count, dtype: int64\n",
      "\n",
      "websites who are talking about Europian countries\n",
      "\n",
      "Top ten websites\n",
      "website\n",
      "www.etfdailynews.com       1072\n",
      "www.globalsecurity.org      573\n",
      "www.globenewswire.com       571\n",
      "www.rt.com                  279\n",
      "abcnews.go.com              276\n",
      "www.businessinsider.com     230\n",
      "www.aljazeera.com           222\n",
      "www.bbc.co.uk               176\n",
      "www.euronews.com            168\n",
      "www.ibtimes.com             155\n",
      "Name: count, dtype: int64\n",
      "\n",
      "Bottom ten websites\n",
      "website\n",
      "indianexpress.com         37\n",
      "boingboing.net            32\n",
      "www.cnn.com               27\n",
      "www.digitaltrends.com     17\n",
      "www.bbc.com               13\n",
      "www.wired.com              9\n",
      "readwrite.com              9\n",
      "gizmodo.com                9\n",
      "www.androidcentral.com     6\n",
      "www.theverge.com           4\n",
      "Name: count, dtype: int64\n",
      "\n",
      "websites who are talking about Middle East\n",
      "\n",
      "Top ten websites\n",
      "website\n",
      "www.globalsecurity.org          350\n",
      "www.aljazeera.com               237\n",
      "economictimes.indiatimes.com    145\n",
      "www.businessinsider.com         122\n",
      "www.rt.com                      121\n",
      "abcnews.go.com                  118\n",
      "www.bbc.co.uk                    90\n",
      "www.npr.org                      85\n",
      "www.ibtimes.com                  72\n",
      "www.globenewswire.com            70\n",
      "Name: count, dtype: int64\n",
      "\n",
      "Bottom ten websites\n",
      "website\n",
      "phys.org                  21\n",
      "www.cnn.com               15\n",
      "www.euronews.com          15\n",
      "www.digitaltrends.com     13\n",
      "www.bbc.com                4\n",
      "readwrite.com              1\n",
      "www.wired.com              1\n",
      "www.androidcentral.com     1\n",
      "gizmodo.com                1\n",
      "www.theverge.com           1\n",
      "Name: count, dtype: int64\n",
      "\n",
      "websites who are talking about United State\n",
      "\n",
      "Top ten websites\n",
      "website\n",
      "www.etfdailynews.com            145\n",
      "www.globenewswire.com            78\n",
      "www.globalsecurity.org           47\n",
      "www.businessinsider.com          35\n",
      "boingboing.net                   28\n",
      "abcnews.go.com                   22\n",
      "www.npr.org                      18\n",
      "www.aljazeera.com                11\n",
      "www.forbes.com                   11\n",
      "economictimes.indiatimes.com     10\n",
      "Name: count, dtype: int64\n",
      "\n",
      "Bottom ten websites\n",
      "website\n",
      "gizmodo.com               6\n",
      "www.androidcentral.com    5\n",
      "www.ibtimes.com           5\n",
      "www.wired.com             4\n",
      "www.theverge.com          3\n",
      "www.rt.com                3\n",
      "punchng.com               3\n",
      "deadline.com              2\n",
      "www.cnn.com               2\n",
      "indianexpress.com         1\n",
      "Name: count, dtype: int64\n",
      "\n",
      "websites who are talking about China\n",
      "\n",
      "Top ten websites\n",
      "website\n",
      "www.globalsecurity.org          113\n",
      "www.etfdailynews.com             79\n",
      "timesofindia.indiatimes.com      38\n",
      "economictimes.indiatimes.com     31\n",
      "www.ibtimes.com                  22\n",
      "www.rt.com                       21\n",
      "www.globenewswire.com            20\n",
      "www.aljazeera.com                18\n",
      "www.businessinsider.com          15\n",
      "www.forbes.com                   11\n",
      "Name: count, dtype: int64\n",
      "\n",
      "Bottom ten websites\n",
      "website\n",
      "punchng.com               5\n",
      "deadline.com              4\n",
      "www.androidcentral.com    4\n",
      "www.bbc.co.uk             4\n",
      "indianexpress.com         3\n",
      "boingboing.net            3\n",
      "www.cnn.com               2\n",
      "gizmodo.com               1\n",
      "phys.org                  1\n",
      "www.bbc.com               1\n",
      "Name: count, dtype: int64\n",
      "\n",
      "websites who are talking about Russia\n",
      "\n",
      "Top ten websites\n",
      "Series([], Name: count, dtype: int64)\n",
      "\n",
      "Bottom ten websites\n",
      "Series([], Name: count, dtype: int64)\n",
      "\n",
      "websites who are talking about Ukraine\n",
      "\n",
      "Top ten websites\n",
      "website\n",
      "www.globalsecurity.org          169\n",
      "www.businessinsider.com         151\n",
      "www.rt.com                       61\n",
      "abcnews.go.com                   51\n",
      "www.bbc.co.uk                    31\n",
      "timesofindia.indiatimes.com      28\n",
      "www.npr.org                      16\n",
      "www.ibtimes.com                  15\n",
      "economictimes.indiatimes.com     13\n",
      "www.aljazeera.com                10\n",
      "Name: count, dtype: int64\n",
      "\n",
      "Bottom ten websites\n",
      "website\n",
      "readwrite.com            4\n",
      "boingboing.net           4\n",
      "www.globenewswire.com    4\n",
      "www.wired.com            3\n",
      "gizmodo.com              2\n",
      "phys.org                 2\n",
      "www.forbes.com           2\n",
      "www.bbc.com              2\n",
      "www.theverge.com         1\n",
      "punchng.com              1\n",
      "Name: count, dtype: int64\n"
     ]
    }
   ],
   "source": [
    "african_countries = [\"Algeria\", \"Angola\", \"Benin\", \"Botswana\", \"Burkina Faso\", \"Burundi\", \"Cabo Verde\", \"Cameroon\", \"Central African Republic\", \"Chad\", \"Comoros\", \"Congo\",\n",
    "\"Democratic Republic of the Congo\", \"Djibouti\", \"Egypt\", \"Equatorial Guinea\", \"Eritrea\", \"Ethiopia\", \"Eswatini\", \"Gabon\", \"Gambia\", \"Ghana\", \"Guinea\", \n",
    "\"Guinea-Bissau\", \"Ivory Coast\", \"Kenya\", \"Lesotho\", \"Liberia\", \"Libya\", \"Madagascar\", \"Malawi\", \"Mali\", \"Mauritania\", \"Mauritius\", \"Morocco\", \n",
    "\"Mozambique\", \"Namibia\", \"Niger\", \"Nigeria\", \"Rwanda\", \"São Tomé and Príncipe\", \"Senegal\", \"Seychelles\", \"Sierra Leone\", \"Somalia\", \"South Africa\", \n",
    "\"South Sudan\", \"Sudan\", \"Tanzania\", \"Togo\", \"Tunisia\", \"Uganda\", \"Zambia\", \"Zimbabwe\"]\n",
    "\n",
    "europian_countries= [\"Albania\", \"Andorra\", \"Armenia\", \"Austria\", \"Azerbaijan\", \"Belarus\", \"Belgium\", \"Bosnia and Herzegovina\", \"Bulgaria\", \"Croatia\", \n",
    "\"Cyprus\", \"Czech Republic\", \"Denmark\", \"Estonia\", \"Finland\", \"France\", \"Georgia\", \"Germany\", \"Greece\", \"Hungary\", \"Iceland\",\n",
    "\"Ireland\", \"Italy\", \"Kosovo\", \"Latvia\", \"Liechtenstein\", \"Lithuania\", \"Luxembourg\", \"Malta\", \"Moldova\", \"Monaco\", \"Montenegro\",\n",
    "\"Netherlands\", \"North Macedonia\", \"Norway\", \"Poland\", \"Portugal\", \"Romania\", \"Russia\", \"San Marino\", \"Serbia\", \"Slovakia\", \"Slovenia\", \"Spain\",\n",
    "\"Sweden\", \"Switzerland\", \"Turkey\", \"Ukraine\", \"United Kingdom\"]\n",
    "\n",
    "middle_east =[\"Bahrain\", \"Cyprus\", \"Egypt\", \"Iran\", \"Iraq\", \"Israel\", \"Jordan\", \"Kuwait\", \"Lebanon\", \"Oman\", \"Qatar\", \"Saudi Arabia\", \"Syria\",\n",
    "\"Turkey\", \"United Arab Emirates\", \"Yemen\"]\n",
    "\n",
    "united_states = ['United States']\n",
    "china = ['China']\n",
    "russia = ['Russia']\n",
    "ukraine = ['Ukraine']\n",
    "def news_count_per_group(group_name, data):\n",
    "    group_data = data[data['category'].isin(group_name)]\n",
    "    group_website_counts = group_data['website'].value_counts()\n",
    "    sorted_group_website_count = group_website_counts.sort_values(ascending=False)\n",
    "    top_10_group_websites = sorted_group_website_count.head(10)\n",
    "    bottom_10_group_websites = sorted_group_website_count.tail(10)\n",
    "\n",
    "    print('\\nTop ten websites')\n",
    "    print(top_10_group_websites)\n",
    "\n",
    "    print('\\nBottom ten websites')\n",
    "    print(bottom_10_group_websites)\n",
    "\n",
    "# Call the function with the list of African countries and your data\n",
    "print('websites who are talking about African countries')\n",
    "news_count_per_group(african_countries, data)\n",
    "\n",
    "print('\\nwebsites who are talking about Europian countries')\n",
    "news_count_per_group(europian_countries, data)\n",
    "\n",
    "print('\\nwebsites who are talking about Middle East')\n",
    "news_count_per_group(middle_east, data)\n",
    "\n",
    "print('\\nwebsites who are talking about United State')\n",
    "news_count_per_group(united_states, data)\n",
    "\n",
    "print('\\nwebsites who are talking about China')\n",
    "news_count_per_group(china, data)\n",
    "\n",
    "print('\\nwebsites who are talking about Russia')\n",
    "news_count_per_group(russia, data)\n",
    "\n",
    "print('\\nwebsites who are talking about Ukraine')\n",
    "news_count_per_group(ukraine, data)"
   ]
  },
  {
   "cell_type": "markdown",
   "id": "c6ea98db-c972-4b50-a92b-cb230d2684b9",
   "metadata": {},
   "source": [
    "# Task 1: Websites with the highest count of positive, neutral, and negative sentiment?"
   ]
  },
  {
   "cell_type": "code",
   "execution_count": 12,
   "id": "0980edff-f1c5-4e22-8cfb-2bba201cccdb",
   "metadata": {},
   "outputs": [
    {
     "name": "stdout",
     "output_type": "stream",
     "text": [
      "Top Ten Websites:\n",
      "title_sentiment               Negative  Neutral  Positive         mean\n",
      "website                                                               \n",
      "www.etfdailynews.com               560    15194       992  5582.000000\n",
      "www.globenewswire.com               27     4491       905  1807.666667\n",
      "economictimes.indiatimes.com       744     3634       932  1770.000000\n",
      "www.globalsecurity.org             747     2255       117  1039.666667\n",
      "www.forbes.com                     216     1933       635   928.000000\n",
      "timesofindia.indiatimes.com        466     1515       213   731.333333\n",
      "abcnews.go.com                     726     1193       139   686.000000\n",
      "www.businessinsider.com            890      907       237   678.000000\n",
      "www.bbc.co.uk                      828     1135        69   677.333333\n",
      "punchng.com                        455     1229       116   600.000000\n",
      "\n",
      "Bottom Ten Websites:\n",
      "title_sentiment                   Negative  Neutral  Positive        mean\n",
      "website                                                                  \n",
      "gizmodo.com                             76      253        59  129.333333\n",
      "readwrite.com                           38      216        70  108.000000\n",
      "www.euronews.com                       114      157        15   95.333333\n",
      "www.wired.com                           65      138        67   90.000000\n",
      "www.cnn.com                            102      142        23   89.000000\n",
      "www.theverge.com                        35      118        61   71.333333\n",
      "www.bbc.com                             26       50         5   27.000000\n",
      "allafrica.com                            8       12         0    6.666667\n",
      "cnalifestyle.channelnewsasia.com         0       12         6    6.000000\n",
      "cnaluxury.channelnewsasia.com            0        2         2    1.333333\n"
     ]
    }
   ],
   "source": [
    "grouped_data = data.groupby(['website', 'title_sentiment'])\n",
    "sentiment_counts = grouped_data.size().unstack(fill_value=0)\n",
    "sentiment_counts['mean'] = sentiment_counts.mean(axis=1)\n",
    "sorted_sentiment_counts = sentiment_counts.sort_values(by='mean', ascending=False)\n",
    "top_ten = sorted_sentiment_counts.head(10)\n",
    "bottom_ten = sorted_sentiment_counts.tail(10)\n",
    "print(\"Top Ten Websites:\")\n",
    "print(top_ten)\n",
    "print(\"\\nBottom Ten Websites:\")\n",
    "print(bottom_ten)"
   ]
  },
  {
   "cell_type": "code",
   "execution_count": 13,
   "id": "143285d4-d7a2-44ef-bf79-4d58df2f7b06",
   "metadata": {},
   "outputs": [
    {
     "name": "stdout",
     "output_type": "stream",
     "text": [
      "title_sentiment                   Negative  Neutral  Positive\n",
      "website                                                      \n",
      "abcnews.go.com                         726     1193       139\n",
      "allafrica.com                            8       12         0\n",
      "boingboing.net                         250      293       170\n",
      "cnalifestyle.channelnewsasia.com         0       12         6\n",
      "cnaluxury.channelnewsasia.com            0        2         2\n",
      "deadline.com                            84      794        54\n",
      "economictimes.indiatimes.com           744     3634       932\n",
      "gizmodo.com                             76      253        59\n",
      "indianexpress.com                      251      787       138\n",
      "phys.org                               284      836       143\n",
      "punchng.com                            455     1229       116\n",
      "readwrite.com                           38      216        70\n",
      "time.com                               185      382        33\n",
      "timesofindia.indiatimes.com            466     1515       213\n",
      "www.aljazeera.com                      706      927        31\n",
      "www.androidcentral.com                  38      212       272\n",
      "www.bbc.co.uk                          828     1135        69\n",
      "www.bbc.com                             26       50         5\n",
      "www.businessinsider.com                890      907       237\n",
      "www.channelnewsasia.com                126      448        78\n",
      "www.cnn.com                            102      142        23\n",
      "www.digitaltrends.com                   43      335       406\n",
      "www.etfdailynews.com                   560    15194       992\n",
      "www.euronews.com                       114      157        15\n",
      "www.forbes.com                         216     1933       635\n",
      "www.globalsecurity.org                 747     2255       117\n",
      "www.globenewswire.com                   27     4491       905\n",
      "www.ibtimes.com                        319      844        44\n",
      "www.marketscreener.com                  42     1167       153\n",
      "www.npr.org                            279      617        85\n",
      "www.rt.com                             403      698        27\n",
      "www.theverge.com                        35      118        61\n",
      "www.wired.com                           65      138        67\n"
     ]
    }
   ],
   "source": [
    "website_sentiment_counts = data.groupby(['website', 'title_sentiment']).size().unstack(fill_value=0)\n",
    "\n",
    "# Print the sentiment counts for each website\n",
    "print(website_sentiment_counts)"
   ]
  },
  {
   "cell_type": "code",
   "execution_count": null,
   "id": "e454016a-d0ba-446d-b72d-96ad93d06bf9",
   "metadata": {},
   "outputs": [],
   "source": []
  }
 ],
 "metadata": {
  "kernelspec": {
   "display_name": "Python 3 (ipykernel)",
   "language": "python",
   "name": "python3"
  },
  "language_info": {
   "codemirror_mode": {
    "name": "ipython",
    "version": 3
   },
   "file_extension": ".py",
   "mimetype": "text/x-python",
   "name": "python",
   "nbconvert_exporter": "python",
   "pygments_lexer": "ipython3",
   "version": "3.11.7"
  }
 },
 "nbformat": 4,
 "nbformat_minor": 5
}
